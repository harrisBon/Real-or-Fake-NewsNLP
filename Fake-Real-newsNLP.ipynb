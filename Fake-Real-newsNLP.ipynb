{
 "cells": [
  {
   "cell_type": "code",
   "execution_count": null,
   "id": "87381af1",
   "metadata": {},
   "outputs": [],
   "source": [
    "import numpy as np\n",
    "import pandas as pd\n",
    "import matplotlib.pyplot as plt\n",
    "import seaborn as sns\n",
    "%matplotlib inline"
   ]
  },
  {
   "cell_type": "code",
   "execution_count": null,
   "id": "027e9617",
   "metadata": {},
   "outputs": [],
   "source": [
    "fake_news=pd.read_csv('Fake.csv')"
   ]
  },
  {
   "cell_type": "code",
   "execution_count": null,
   "id": "86956962",
   "metadata": {},
   "outputs": [],
   "source": [
    "real_news=pd.read_csv('True.csv')"
   ]
  },
  {
   "cell_type": "code",
   "execution_count": null,
   "id": "a04c9408",
   "metadata": {},
   "outputs": [],
   "source": [
    "fake_news.head()"
   ]
  },
  {
   "cell_type": "code",
   "execution_count": null,
   "id": "db26e7ea",
   "metadata": {},
   "outputs": [],
   "source": [
    "fake_news.columns\n"
   ]
  },
  {
   "cell_type": "code",
   "execution_count": null,
   "id": "ad3eb0a6",
   "metadata": {},
   "outputs": [],
   "source": [
    "real_news.head()"
   ]
  },
  {
   "cell_type": "code",
   "execution_count": null,
   "id": "0a7d1163",
   "metadata": {},
   "outputs": [],
   "source": [
    "fake_news['class']='Fake'\n",
    "real_news['class']='Real'"
   ]
  },
  {
   "cell_type": "code",
   "execution_count": null,
   "id": "be683ffc",
   "metadata": {},
   "outputs": [],
   "source": [
    "fake_news.head()"
   ]
  },
  {
   "cell_type": "code",
   "execution_count": null,
   "id": "76680503",
   "metadata": {},
   "outputs": [],
   "source": [
    "real_news.head()"
   ]
  },
  {
   "cell_type": "code",
   "execution_count": null,
   "id": "fec0ae51",
   "metadata": {},
   "outputs": [],
   "source": [
    "fake_news['subject'].value_counts()"
   ]
  },
  {
   "cell_type": "code",
   "execution_count": null,
   "id": "d425d62b",
   "metadata": {},
   "outputs": [],
   "source": [
    "real_news['subject'].value_counts()"
   ]
  },
  {
   "cell_type": "code",
   "execution_count": null,
   "id": "3120bb3e",
   "metadata": {},
   "outputs": [],
   "source": [
    "fake_news['date'].value_counts()"
   ]
  },
  {
   "cell_type": "code",
   "execution_count": null,
   "id": "69646014",
   "metadata": {},
   "outputs": [],
   "source": [
    "# we are going to deal with the 'title' and 'text' columns in this project,\n",
    "# so we are going to drop the columns 'subject' and 'date'\n",
    "fake_news.drop(['subject','date'],axis=1,inplace=True)\n",
    "real_news.drop(['subject','date'],axis=1,inplace=True)\n"
   ]
  },
  {
   "cell_type": "code",
   "execution_count": null,
   "id": "cd630db4",
   "metadata": {},
   "outputs": [],
   "source": [
    "news=pd.concat([fake_news,real_news],ignore_index=True,sort=False)\n",
    "news=news.sample(frac=1).reset_index(drop=True)\n",
    "news"
   ]
  },
  {
   "cell_type": "code",
   "execution_count": null,
   "id": "e1919846",
   "metadata": {},
   "outputs": [],
   "source": [
    "news['text']=news['title']+news['text']\n",
    "news.drop('title',axis=1,inplace=True)\n",
    "news.head()"
   ]
  },
  {
   "cell_type": "code",
   "execution_count": null,
   "id": "b5dd8fc0",
   "metadata": {},
   "outputs": [],
   "source": [
    "news.describe()"
   ]
  },
  {
   "cell_type": "code",
   "execution_count": null,
   "id": "3c789127",
   "metadata": {},
   "outputs": [],
   "source": [
    "news.groupby('class').describe().transpose()"
   ]
  },
  {
   "cell_type": "code",
   "execution_count": null,
   "id": "bf207311",
   "metadata": {},
   "outputs": [],
   "source": [
    "news['length']=news['text'].apply(len)\n",
    "news.head()"
   ]
  },
  {
   "cell_type": "code",
   "execution_count": null,
   "id": "b7a06339",
   "metadata": {},
   "outputs": [],
   "source": [
    "#EDA\n",
    "\n",
    "news['length'].plot(bins=100, kind='hist',figsize=(14,7),)"
   ]
  },
  {
   "cell_type": "code",
   "execution_count": null,
   "id": "a226b8d6",
   "metadata": {},
   "outputs": [],
   "source": [
    "news.length.describe()"
   ]
  },
  {
   "cell_type": "code",
   "execution_count": null,
   "id": "f2c6a7c9",
   "metadata": {},
   "outputs": [],
   "source": [
    "news[news['length'] == 51892]['text'].iloc[0]"
   ]
  },
  {
   "cell_type": "code",
   "execution_count": null,
   "id": "be50d1a5",
   "metadata": {},
   "outputs": [],
   "source": [
    "news[news['length'] == 51892]"
   ]
  },
  {
   "cell_type": "code",
   "execution_count": null,
   "id": "ded28f47",
   "metadata": {},
   "outputs": [],
   "source": [
    "news.hist(column='length', by='class', bins=70,figsize=(12,7))"
   ]
  },
  {
   "cell_type": "code",
   "execution_count": null,
   "id": "c867db92",
   "metadata": {},
   "outputs": [],
   "source": [
    "#Text Pre-Processing\n",
    "import string"
   ]
  },
  {
   "cell_type": "code",
   "execution_count": null,
   "id": "408315e4",
   "metadata": {},
   "outputs": [],
   "source": [
    "import nltk"
   ]
  },
  {
   "cell_type": "code",
   "execution_count": null,
   "id": "088bc020",
   "metadata": {},
   "outputs": [],
   "source": [
    "nltk.download_shell()"
   ]
  },
  {
   "cell_type": "code",
   "execution_count": null,
   "id": "7c0490f8",
   "metadata": {},
   "outputs": [],
   "source": [
    "from nltk.corpus import stopwords"
   ]
  },
  {
   "cell_type": "code",
   "execution_count": null,
   "id": "57c07001",
   "metadata": {},
   "outputs": [],
   "source": [
    "stopwords.words('english')[0:10]"
   ]
  },
  {
   "cell_type": "code",
   "execution_count": null,
   "id": "868f956c",
   "metadata": {},
   "outputs": [],
   "source": [
    "def text_process(mess):\n",
    "    \"\"\"\n",
    "    Takes in a string of text, then performs the following:\n",
    "    1. Remove all punctuation\n",
    "    2. Remove all stopwords\n",
    "    3. Returns a list of the cleaned text\n",
    "    \"\"\"\n",
    "    # Check characters to see if they are in punctuation\n",
    "    nopunc = [char for char in mess if char not in string.punctuation]\n",
    "\n",
    "    # Join the characters again to form the string.\n",
    "    nopunc = ''.join(nopunc)\n",
    "    \n",
    "    # Now just remove any stopwords\n",
    "    return [word for word in nopunc.split() if word.lower() not in stopwords.words('english')]"
   ]
  },
  {
   "cell_type": "code",
   "execution_count": null,
   "id": "27640b1f",
   "metadata": {},
   "outputs": [],
   "source": [
    "news.head()"
   ]
  },
  {
   "cell_type": "code",
   "execution_count": null,
   "id": "0f158e72",
   "metadata": {},
   "outputs": [],
   "source": [
    "news['text'].head(5).apply(text_process)"
   ]
  },
  {
   "cell_type": "code",
   "execution_count": null,
   "id": "283f6bc7",
   "metadata": {},
   "outputs": [],
   "source": [
    "from sklearn.feature_extraction.text import CountVectorizer"
   ]
  },
  {
   "cell_type": "code",
   "execution_count": null,
   "id": "33e3d416",
   "metadata": {},
   "outputs": [],
   "source": [
    "from sklearn.feature_extraction.text import TfidfTransformer\n"
   ]
  },
  {
   "cell_type": "code",
   "execution_count": null,
   "id": "f4f9fa20",
   "metadata": {},
   "outputs": [],
   "source": [
    "from sklearn.model_selection import train_test_split\n",
    "\n",
    "nws_train, nws_test, class_train, class_test = \\\n",
    "train_test_split(news['text'], news['class'], test_size=0.3)\n",
    "\n",
    "print(len(nws_train), len(nws_test), len(nws_train) + len(nws_test))\n",
    "    \n",
    "    "
   ]
  },
  {
   "cell_type": "code",
   "execution_count": null,
   "id": "9b7a6949",
   "metadata": {},
   "outputs": [],
   "source": [
    "from sklearn.naive_bayes import MultinomialNB\n",
    "from sklearn.pipeline import Pipeline\n",
    "\n",
    "pipeline = Pipeline([\n",
    "    ('bow', CountVectorizer(analyzer=text_process)),  # strings to token integer counts\n",
    "    ('tfidf', TfidfTransformer()),  # integer counts to weighted TF-IDF scores\n",
    "    ('classifier', MultinomialNB()),  # train on TF-IDF vectors w/ Naive Bayes classifier\n",
    "])"
   ]
  },
  {
   "cell_type": "code",
   "execution_count": null,
   "id": "b9a9bb51",
   "metadata": {},
   "outputs": [],
   "source": [
    "pipeline.fit(nws_train,class_train)"
   ]
  },
  {
   "cell_type": "code",
   "execution_count": null,
   "id": "9ba7a09d",
   "metadata": {},
   "outputs": [],
   "source": [
    "predictionsNB = pipeline.predict(nws_test)"
   ]
  },
  {
   "cell_type": "code",
   "execution_count": null,
   "id": "b82cbc69",
   "metadata": {},
   "outputs": [],
   "source": [
    "from sklearn.metrics import classification_report,confusion_matrix"
   ]
  },
  {
   "cell_type": "code",
   "execution_count": null,
   "id": "a96da1ea",
   "metadata": {},
   "outputs": [],
   "source": [
    "print(classification_report(predictionsNB,class_test))"
   ]
  },
  {
   "cell_type": "code",
   "execution_count": null,
   "id": "42874252",
   "metadata": {},
   "outputs": [],
   "source": [
    "print(confusion_matrix(predictionsNB,class_test))"
   ]
  },
  {
   "cell_type": "code",
   "execution_count": null,
   "id": "e1a8d049",
   "metadata": {},
   "outputs": [],
   "source": [
    "from sklearn.svm import SVC"
   ]
  },
  {
   "cell_type": "code",
   "execution_count": null,
   "id": "9eefe361",
   "metadata": {},
   "outputs": [],
   "source": [
    "pipeline = Pipeline([\n",
    "    ('bow', CountVectorizer(analyzer=text_process)),  # strings to token integer counts\n",
    "    ('tfidf', TfidfTransformer()),  # integer counts to weighted TF-IDF scores\n",
    "    ('classifier', SVC()),  # train on TF-IDF vectors w/ SVM classifier\n",
    "])"
   ]
  },
  {
   "cell_type": "code",
   "execution_count": null,
   "id": "92add416",
   "metadata": {},
   "outputs": [],
   "source": [
    "pipeline.fit(nws_train,class_train)"
   ]
  },
  {
   "cell_type": "code",
   "execution_count": null,
   "id": "d632f6c3",
   "metadata": {},
   "outputs": [],
   "source": [
    "predictionsSVM = pipeline.predict(nws_test)"
   ]
  },
  {
   "cell_type": "code",
   "execution_count": null,
   "id": "a098c2b4",
   "metadata": {},
   "outputs": [],
   "source": [
    "print(classification_report(predictionsSVM,class_test))"
   ]
  },
  {
   "cell_type": "code",
   "execution_count": null,
   "id": "c8db493e",
   "metadata": {},
   "outputs": [],
   "source": [
    "print(confusion_matrix(predictionsSVM,class_test))"
   ]
  },
  {
   "cell_type": "code",
   "execution_count": null,
   "id": "44eca734",
   "metadata": {},
   "outputs": [],
   "source": [
    "\n",
    "param_grid = {'C': [0.1,1, 10, 100, 1000], 'gamma': [1,0.1,0.01,0.001,0.0001], 'kernel': ['rbf']} "
   ]
  },
  {
   "cell_type": "code",
   "execution_count": null,
   "id": "60e9a69b",
   "metadata": {},
   "outputs": [],
   "source": [
    "from sklearn.model_selection import GridSearchCV"
   ]
  },
  {
   "cell_type": "code",
   "execution_count": null,
   "id": "bdaf4785",
   "metadata": {},
   "outputs": [],
   "source": [
    "pipeline = Pipeline([\n",
    "    ('bow', CountVectorizer(analyzer=text_process)),  # strings to token integer counts\n",
    "    ('tfidf', TfidfTransformer()),  # integer counts to weighted TF-IDF scores\n",
    "    ('classifier', GridSearchCV(SVC(),param_grid,refit=True,verbose=3)),  # train on TF-IDF vectors w/ GridS classifier\n",
    "])"
   ]
  },
  {
   "cell_type": "code",
   "execution_count": null,
   "id": "984bbac9",
   "metadata": {},
   "outputs": [],
   "source": [
    "pipeline.fit(nws_train,class_train)"
   ]
  },
  {
   "cell_type": "code",
   "execution_count": null,
   "id": "1a0e5fff",
   "metadata": {},
   "outputs": [],
   "source": [
    "grid_predictions = pipeline.predict(nws_test)"
   ]
  },
  {
   "cell_type": "code",
   "execution_count": null,
   "id": "a2a94bbb",
   "metadata": {},
   "outputs": [],
   "source": [
    "print(confusion_matrix(class_test,grid_predictions))"
   ]
  },
  {
   "cell_type": "code",
   "execution_count": null,
   "id": "372c8841",
   "metadata": {},
   "outputs": [],
   "source": [
    "print(classification_report(class_test,grid_predictions))"
   ]
  },
  {
   "cell_type": "code",
   "execution_count": null,
   "id": "684e2c6a",
   "metadata": {},
   "outputs": [],
   "source": []
  },
  {
   "cell_type": "code",
   "execution_count": null,
   "id": "c1b9f26f",
   "metadata": {},
   "outputs": [],
   "source": [
    "\n",
    "\n"
   ]
  },
  {
   "cell_type": "code",
   "execution_count": null,
   "id": "6888a83a",
   "metadata": {},
   "outputs": [],
   "source": []
  },
  {
   "cell_type": "code",
   "execution_count": null,
   "id": "9ff63dc0",
   "metadata": {},
   "outputs": [],
   "source": []
  },
  {
   "cell_type": "code",
   "execution_count": null,
   "id": "85d3a955",
   "metadata": {},
   "outputs": [],
   "source": []
  },
  {
   "cell_type": "code",
   "execution_count": null,
   "id": "8140a523",
   "metadata": {},
   "outputs": [],
   "source": []
  }
 ],
 "metadata": {
  "kernelspec": {
   "display_name": "Python 3",
   "language": "python",
   "name": "python3"
  },
  "language_info": {
   "codemirror_mode": {
    "name": "ipython",
    "version": 3
   },
   "file_extension": ".py",
   "mimetype": "text/x-python",
   "name": "python",
   "nbconvert_exporter": "python",
   "pygments_lexer": "ipython3",
   "version": "3.8.8"
  }
 },
 "nbformat": 4,
 "nbformat_minor": 5
}
